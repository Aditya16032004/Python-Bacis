{
  "nbformat": 4,
  "nbformat_minor": 0,
  "metadata": {
    "colab": {
      "provenance": [],
      "authorship_tag": "ABX9TyMDhubPgBZdJhY7yTaJwgoM",
      "include_colab_link": true
    },
    "kernelspec": {
      "name": "python3",
      "display_name": "Python 3"
    },
    "language_info": {
      "name": "python"
    }
  },
  "cells": [
    {
      "cell_type": "markdown",
      "metadata": {
        "id": "view-in-github",
        "colab_type": "text"
      },
      "source": [
        "<a href=\"https://colab.research.google.com/github/Aditya16032004/Python-Bacis/blob/main/listed2.ipynb\" target=\"_parent\"><img src=\"https://colab.research.google.com/assets/colab-badge.svg\" alt=\"Open In Colab\"/></a>"
      ]
    },
    {
      "cell_type": "code",
      "execution_count": 1,
      "metadata": {
        "id": "cXVyrvflCsDZ"
      },
      "outputs": [],
      "source": [
        "x=[\"aditya e s\",6,\"18\",\"ayyanthole\",\"16-3-2004\",]"
      ]
    },
    {
      "cell_type": "code",
      "source": [
        "x"
      ],
      "metadata": {
        "colab": {
          "base_uri": "https://localhost:8080/"
        },
        "id": "35KA0FSTGxUz",
        "outputId": "8a23f02c-3b57-43b6-e4c7-642508062dc3"
      },
      "execution_count": 2,
      "outputs": [
        {
          "output_type": "execute_result",
          "data": {
            "text/plain": [
              "['aditya e s', 6, '18', 'ayyanthole', '16-3-2004']"
            ]
          },
          "metadata": {},
          "execution_count": 2
        }
      ]
    },
    {
      "cell_type": "code",
      "source": [
        "x[0]"
      ],
      "metadata": {
        "colab": {
          "base_uri": "https://localhost:8080/",
          "height": 35
        },
        "id": "ksEcLLJEHEHS",
        "outputId": "3576f5d6-c72d-42be-a33f-1fd442372f08"
      },
      "execution_count": 3,
      "outputs": [
        {
          "output_type": "execute_result",
          "data": {
            "text/plain": [
              "'aditya e s'"
            ],
            "application/vnd.google.colaboratory.intrinsic+json": {
              "type": "string"
            }
          },
          "metadata": {},
          "execution_count": 3
        }
      ]
    },
    {
      "cell_type": "code",
      "source": [
        "x[4]"
      ],
      "metadata": {
        "colab": {
          "base_uri": "https://localhost:8080/",
          "height": 35
        },
        "id": "BpIUitORIAhR",
        "outputId": "13442a0b-ae8e-4b72-b40b-51d910eb46d2"
      },
      "execution_count": 4,
      "outputs": [
        {
          "output_type": "execute_result",
          "data": {
            "text/plain": [
              "'16-3-2004'"
            ],
            "application/vnd.google.colaboratory.intrinsic+json": {
              "type": "string"
            }
          },
          "metadata": {},
          "execution_count": 4
        }
      ]
    },
    {
      "cell_type": "code",
      "source": [
        "x.append(\"thrissur\")"
      ],
      "metadata": {
        "id": "gm87UehUIRYy"
      },
      "execution_count": 5,
      "outputs": []
    },
    {
      "cell_type": "code",
      "source": [
        "x"
      ],
      "metadata": {
        "colab": {
          "base_uri": "https://localhost:8080/"
        },
        "id": "QS0SoI8tI0_C",
        "outputId": "ea52cfa7-dbbb-45d8-9ebb-0e183d3912c6"
      },
      "execution_count": 6,
      "outputs": [
        {
          "output_type": "execute_result",
          "data": {
            "text/plain": [
              "['aditya e s', 6, '18', 'ayyanthole', '16-3-2004', 'thrissur']"
            ]
          },
          "metadata": {},
          "execution_count": 6
        }
      ]
    },
    {
      "cell_type": "code",
      "source": [
        "x.insert(1,\"kerla\")"
      ],
      "metadata": {
        "id": "ZjCbAjNmI2bZ"
      },
      "execution_count": 7,
      "outputs": []
    },
    {
      "cell_type": "code",
      "source": [
        "x"
      ],
      "metadata": {
        "colab": {
          "base_uri": "https://localhost:8080/"
        },
        "id": "uXddJonwKA1i",
        "outputId": "25177b00-276f-42af-8f34-da1fd602aee5"
      },
      "execution_count": 8,
      "outputs": [
        {
          "output_type": "execute_result",
          "data": {
            "text/plain": [
              "['aditya e s', 'kerla', 6, '18', 'ayyanthole', '16-3-2004', 'thrissur']"
            ]
          },
          "metadata": {},
          "execution_count": 8
        }
      ]
    },
    {
      "cell_type": "code",
      "source": [
        "x=int(input(\"enter your mark\"))\n",
        "if x >50 :\n",
        "  print(\"pass\")\n",
        "if x <50 :\n",
        "  print(\"fail\")\n",
        "  "
      ],
      "metadata": {
        "colab": {
          "base_uri": "https://localhost:8080/"
        },
        "id": "bMq3vVSzKDEC",
        "outputId": "ecd1743e-ec88-4349-c460-8b7c1f7b2fb8"
      },
      "execution_count": 9,
      "outputs": [
        {
          "output_type": "stream",
          "name": "stdout",
          "text": [
            "enter your mark55\n",
            "pass\n"
          ]
        }
      ]
    },
    {
      "cell_type": "code",
      "source": [
        "x=int(input(\"Enter a mark\"))\n",
        "if x >50 :\n",
        "  print(\"pass\")\n",
        "x=int(input(\"Enter a mark\"))\n",
        "if x <50 :\n",
        "  print(\"fail\")\n"
      ],
      "metadata": {
        "colab": {
          "base_uri": "https://localhost:8080/"
        },
        "id": "eS6gOBQpOUVi",
        "outputId": "1f805479-7d27-4a55-d1e4-3c3e03adc2ee"
      },
      "execution_count": 10,
      "outputs": [
        {
          "name": "stdout",
          "output_type": "stream",
          "text": [
            "Enter a mark55\n",
            "pass\n",
            "Enter a mark55\n"
          ]
        }
      ]
    },
    {
      "cell_type": "code",
      "source": [
        "x=[\"vin\",\"paul\",\"joy\"]\n",
        "print(x)\n",
        "y=input(\"enter a name\")\n",
        "x.append(y)\n",
        "print(x)"
      ],
      "metadata": {
        "colab": {
          "base_uri": "https://localhost:8080/"
        },
        "id": "NhTSklD0O1-x",
        "outputId": "c7213346-a604-4a54-b3e4-e4a83f7e2034"
      },
      "execution_count": 22,
      "outputs": [
        {
          "output_type": "stream",
          "name": "stdout",
          "text": [
            "['vin', 'paul', 'joy']\n",
            "enter a namejio\n",
            "['vin', 'paul', 'joy', 'jio']\n"
          ]
        }
      ]
    },
    {
      "cell_type": "code",
      "source": [
        "x=[\"vin\",\"paul\",\"joy\"]\n",
        "print(x)\n",
        "y=input(\"enter a name\")\n",
        "x.insert(1,y)\n",
        "print(x)\n"
      ],
      "metadata": {
        "colab": {
          "base_uri": "https://localhost:8080/"
        },
        "id": "m36kjaqYSv5B",
        "outputId": "46d67957-db15-45e6-c3f9-bac51efd3746"
      },
      "execution_count": 29,
      "outputs": [
        {
          "output_type": "stream",
          "name": "stdout",
          "text": [
            "['vin', 'paul', 'joy']\n",
            "enter a namejio\n",
            "['vin', 'jio', 'paul', 'joy']\n"
          ]
        }
      ]
    },
    {
      "cell_type": "code",
      "source": [],
      "metadata": {
        "id": "_BcjTLyLdsKC"
      },
      "execution_count": 25,
      "outputs": []
    }
  ]
}